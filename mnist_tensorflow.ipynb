{
 "cells": [
  {
   "cell_type": "code",
   "execution_count": 1,
   "metadata": {},
   "outputs": [],
   "source": [
    "import warnings\n",
    "warnings.filterwarnings('ignore')\n",
    "\n",
    "import tensorflow as tf\n",
    "from tensorflow.examples.tutorials.mnist import input_data"
   ]
  },
  {
   "cell_type": "code",
   "execution_count": 2,
   "metadata": {},
   "outputs": [
    {
     "name": "stderr",
     "output_type": "stream",
     "text": [
      "WARNING: Logging before flag parsing goes to stderr.\n",
      "W1206 11:05:50.458815 346428 deprecation.py:323] From <ipython-input-2-3f7a3224cc00>:2: read_data_sets (from tensorflow.contrib.learn.python.learn.datasets.mnist) is deprecated and will be removed in a future version.\n",
      "Instructions for updating:\n",
      "Please use alternatives such as official/mnist/dataset.py from tensorflow/models.\n",
      "W1206 11:05:50.462805 346428 deprecation.py:323] From D:\\Anaconda\\lib\\site-packages\\tensorflow\\contrib\\learn\\python\\learn\\datasets\\mnist.py:260: maybe_download (from tensorflow.contrib.learn.python.learn.datasets.base) is deprecated and will be removed in a future version.\n",
      "Instructions for updating:\n",
      "Please write your own downloading logic.\n",
      "W1206 11:05:50.463802 346428 deprecation.py:323] From D:\\Anaconda\\lib\\site-packages\\tensorflow\\contrib\\learn\\python\\learn\\datasets\\mnist.py:262: extract_images (from tensorflow.contrib.learn.python.learn.datasets.mnist) is deprecated and will be removed in a future version.\n",
      "Instructions for updating:\n",
      "Please use tf.data to implement this functionality.\n"
     ]
    },
    {
     "name": "stdout",
     "output_type": "stream",
     "text": [
      "Extracting MNIST_data/train-images-idx3-ubyte.gz\n"
     ]
    },
    {
     "name": "stderr",
     "output_type": "stream",
     "text": [
      "W1206 11:05:50.714168 346428 deprecation.py:323] From D:\\Anaconda\\lib\\site-packages\\tensorflow\\contrib\\learn\\python\\learn\\datasets\\mnist.py:267: extract_labels (from tensorflow.contrib.learn.python.learn.datasets.mnist) is deprecated and will be removed in a future version.\n",
      "Instructions for updating:\n",
      "Please use tf.data to implement this functionality.\n",
      "W1206 11:05:50.716127 346428 deprecation.py:323] From D:\\Anaconda\\lib\\site-packages\\tensorflow\\contrib\\learn\\python\\learn\\datasets\\mnist.py:110: dense_to_one_hot (from tensorflow.contrib.learn.python.learn.datasets.mnist) is deprecated and will be removed in a future version.\n",
      "Instructions for updating:\n",
      "Please use tf.one_hot on tensors.\n",
      "W1206 11:05:50.768987 346428 deprecation.py:323] From D:\\Anaconda\\lib\\site-packages\\tensorflow\\contrib\\learn\\python\\learn\\datasets\\mnist.py:290: DataSet.__init__ (from tensorflow.contrib.learn.python.learn.datasets.mnist) is deprecated and will be removed in a future version.\n",
      "Instructions for updating:\n",
      "Please use alternatives such as official/mnist/dataset.py from tensorflow/models.\n"
     ]
    },
    {
     "name": "stdout",
     "output_type": "stream",
     "text": [
      "Extracting MNIST_data/train-labels-idx1-ubyte.gz\n",
      "Extracting MNIST_data/t10k-images-idx3-ubyte.gz\n",
      "Extracting MNIST_data/t10k-labels-idx1-ubyte.gz\n"
     ]
    }
   ],
   "source": [
    "# 导入MNIST数据集\n",
    "mnist = input_data.read_data_sets('MNIST_data/', one_hot=True)"
   ]
  },
  {
   "cell_type": "code",
   "execution_count": 3,
   "metadata": {},
   "outputs": [],
   "source": [
    "# 每个批次大小\n",
    "batch_size = 100\n",
    "# 计算共有多少批次\n",
    "n_batch = mnist.train.num_examples // batch_size"
   ]
  },
  {
   "cell_type": "code",
   "execution_count": 4,
   "metadata": {},
   "outputs": [],
   "source": [
    "# 定义两个placeholder\n",
    "X = tf.placeholder(tf.float32, shape=[None, 784])\n",
    "y = tf.placeholder(tf.float32, shape=[None, 10])"
   ]
  },
  {
   "cell_type": "code",
   "execution_count": 5,
   "metadata": {},
   "outputs": [],
   "source": [
    "# 定义初始的权重系数以及偏值\n",
    "W = tf.Variable(tf.zeros([784, 10]), name='weights')\n",
    "b = tf.Variable(tf.zeros([10]), name='bias')"
   ]
  },
  {
   "cell_type": "code",
   "execution_count": 6,
   "metadata": {},
   "outputs": [],
   "source": [
    "# 使用softmax进行预测\n",
    "y_pred = tf.nn.softmax(tf.matmul(X,W)+b)"
   ]
  },
  {
   "cell_type": "code",
   "execution_count": 7,
   "metadata": {},
   "outputs": [],
   "source": [
    "# 使用交叉熵作为评价指标\n",
    "cost = tf.reduce_mean(-tf.reduce_sum(y*tf.log(y_pred + 1e-10), reduction_indices=1))"
   ]
  },
  {
   "cell_type": "code",
   "execution_count": 8,
   "metadata": {},
   "outputs": [],
   "source": [
    "# 梯度下降法进行训练模型\n",
    "train_step = tf.train.GradientDescentOptimizer(0.01).minimize(cost)"
   ]
  },
  {
   "cell_type": "code",
   "execution_count": 9,
   "metadata": {},
   "outputs": [],
   "source": [
    "# 评价精度\n",
    "correct_prediction = tf.equal(tf.argmax(y, 1), tf.argmax(y_pred, 1))\n",
    "accuracy = tf.reduce_mean(tf.cast(correct_prediction, tf.float32))"
   ]
  },
  {
   "cell_type": "code",
   "execution_count": 10,
   "metadata": {},
   "outputs": [
    {
     "name": "stdout",
     "output_type": "stream",
     "text": [
      "epoch:1, accracy:0.85520\n",
      "epoch:2, accracy:0.87350\n",
      "epoch:3, accracy:0.88180\n",
      "epoch:4, accracy:0.88690\n",
      "epoch:5, accracy:0.89130\n",
      "epoch:6, accracy:0.89570\n",
      "epoch:7, accracy:0.89810\n",
      "epoch:8, accracy:0.89910\n",
      "epoch:9, accracy:0.90110\n",
      "epoch:10, accracy:0.90320\n",
      "epoch:11, accracy:0.90370\n",
      "epoch:12, accracy:0.90590\n",
      "epoch:13, accracy:0.90650\n",
      "epoch:14, accracy:0.90730\n",
      "epoch:15, accracy:0.90790\n",
      "epoch:16, accracy:0.90830\n",
      "epoch:17, accracy:0.90980\n",
      "epoch:18, accracy:0.91030\n",
      "epoch:19, accracy:0.91080\n",
      "epoch:20, accracy:0.91170\n",
      "epoch:21, accracy:0.91170\n",
      "epoch:22, accracy:0.91290\n",
      "epoch:23, accracy:0.91310\n",
      "epoch:24, accracy:0.91410\n",
      "epoch:25, accracy:0.91360\n",
      "epoch:26, accracy:0.91400\n",
      "epoch:27, accracy:0.91460\n",
      "epoch:28, accracy:0.91480\n",
      "epoch:29, accracy:0.91440\n",
      "epoch:30, accracy:0.91560\n",
      "epoch:31, accracy:0.91620\n",
      "epoch:32, accracy:0.91660\n",
      "epoch:33, accracy:0.91680\n",
      "epoch:34, accracy:0.91730\n",
      "epoch:35, accracy:0.91620\n",
      "epoch:36, accracy:0.91670\n",
      "epoch:37, accracy:0.91700\n",
      "epoch:38, accracy:0.91740\n",
      "epoch:39, accracy:0.91700\n",
      "epoch:40, accracy:0.91780\n",
      "Done!\n"
     ]
    }
   ],
   "source": [
    "# 建立训练集迭代及测试集评价过程\n",
    "with tf.Session() as sess:\n",
    "    sess.run(tf.global_variables_initializer())\n",
    "    for epoch in range(40):\n",
    "        for i in range(n_batch):\n",
    "            xs, ys = mnist.train.next_batch(batch_size)\n",
    "            sess.run(train_step, feed_dict={X:xs, y:ys})\n",
    "        acc = sess.run(accuracy, feed_dict={X:mnist.test.images, y:mnist.test.labels})\n",
    "        print('epoch:%d, accracy:%.5f'%(epoch+1, acc))\n",
    "    print('Done!')"
   ]
  },
  {
   "cell_type": "code",
   "execution_count": null,
   "metadata": {},
   "outputs": [],
   "source": []
  }
 ],
 "metadata": {
  "kernelspec": {
   "display_name": "Python 3",
   "language": "python",
   "name": "python3"
  },
  "language_info": {
   "codemirror_mode": {
    "name": "ipython",
    "version": 3
   },
   "file_extension": ".py",
   "mimetype": "text/x-python",
   "name": "python",
   "nbconvert_exporter": "python",
   "pygments_lexer": "ipython3",
   "version": "3.6.5"
  }
 },
 "nbformat": 4,
 "nbformat_minor": 2
}
